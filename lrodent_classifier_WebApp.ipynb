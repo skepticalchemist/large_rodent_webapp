{
  "cells": [
    {
      "cell_type": "code",
      "execution_count": 3,
      "metadata": {
        "id": "hSPaI3-4E1Ic"
      },
      "outputs": [],
      "source": [
        "from fastai.vision.all import *\n",
        "from fastai.vision.widgets import *"
      ]
    },
    {
      "cell_type": "markdown",
      "source": [
        "# Predicting whether an image contains a paca, an agouti or a capybara\n",
        "\n",
        "* Load an image of the potentially large rodent, then click upload button to get the answer."
      ],
      "metadata": {
        "id": "ZDFCdOM0Wn8d"
      }
    },
    {
      "cell_type": "code",
      "execution_count": 4,
      "metadata": {
        "id": "ORkAwY4MlJgH"
      },
      "outputs": [],
      "source": [
        "path = Path()\n",
        "learn_inf = load_learner(path/'export.pkl', cpu=True)"
      ]
    },
    {
      "cell_type": "code",
      "source": [
        "upload_button = widgets.FileUpload()\n",
        "output_button = widgets.Output()\n",
        "label_pred = widgets.Label()\n",
        "run_button = widgets.Button(description='Classify')"
      ],
      "metadata": {
        "id": "aTWz5Ar4WcEi"
      },
      "execution_count": 5,
      "outputs": []
    },
    {
      "cell_type": "code",
      "source": [
        "def on_click_classify(change):\n",
        "  img = PILImage.create(upload_button.data[-1])\n",
        "  output_button.clear_output()\n",
        "  with output_button:\n",
        "      display(img.to_thumb(128,128))\n",
        "  pred, pred_idx, probs = learn_inf.predict(img)\n",
        "  label_pred.value = f'Prediction: {pred}, Probability: {probs[pred_idx]:.04f}'"
      ],
      "metadata": {
        "id": "lE-HXaUMWczI"
      },
      "execution_count": 6,
      "outputs": []
    },
    {
      "cell_type": "code",
      "source": [
        "run_button.on_click(on_click_classify)"
      ],
      "metadata": {
        "id": "r_Orf2nvWfNL"
      },
      "execution_count": 7,
      "outputs": []
    },
    {
      "cell_type": "code",
      "source": [
        "display(VBox([widgets.Label('Select your large rodent!'),\n",
        "      upload_button, run_button, output_button, label_pred\n",
        "      ]\n",
        "     ))"
      ],
      "metadata": {
        "colab": {
          "base_uri": "https://localhost:8080/",
          "height": 216,
          "referenced_widgets": [
            "5b8aced1b64e48299872f28d65651e52",
            "0d330d2e8b4b432fb71691930b5b6898",
            "a7d7926123854a86a1d5855b102126bb",
            "6bb2521adb6845c4a8ad408e08b5aec0",
            "3f2d2db61ffa4bbbb03a8f128cc0e730",
            "aa6be74d93ab45849d2cdd4176887cf8",
            "898e9df4fc6c4897acb0ce211c7a34db",
            "2b9522cef12e49c782b3c41d53602696",
            "9e4d2ca8fe14474183af85dca924a271",
            "a1b7ab9c3d5c4613b9b90d78bfebd0a9",
            "fc3d50e7e88844debc6ebf4b00d7121e",
            "8f8345d545fa4ca183b5a481a16284b5",
            "39dd3bf53b4c41b59c948b501e5fecde",
            "9a1e172faba7420eaeef086e7fd6b6c4",
            "60d8e8e135a644629177eaa120569c37",
            "123c34d8fd25474e88eb2f26be575524"
          ]
        },
        "id": "9I2fr8xPWhVd",
        "outputId": "c40f7598-845a-47ce-9d51-d379dc7f1fbb"
      },
      "execution_count": 9,
      "outputs": [
        {
          "output_type": "display_data",
          "data": {
            "text/plain": [
              "VBox(children=(Label(value='Select your large rodent!'), FileUpload(value={}, description='Upload'), Button(de…"
            ],
            "application/vnd.jupyter.widget-view+json": {
              "version_major": 2,
              "version_minor": 0,
              "model_id": "5b8aced1b64e48299872f28d65651e52"
            }
          },
          "metadata": {}
        },
        {
          "output_type": "display_data",
          "data": {
            "text/plain": [
              "<IPython.core.display.HTML object>"
            ],
            "text/html": [
              "\n",
              "<style>\n",
              "    /* Turns off some styling */\n",
              "    progress {\n",
              "        /* gets rid of default border in Firefox and Opera. */\n",
              "        border: none;\n",
              "        /* Needs to be in here for Safari polyfill so background images work as expected. */\n",
              "        background-size: auto;\n",
              "    }\n",
              "    progress:not([value]), progress:not([value])::-webkit-progress-bar {\n",
              "        background: repeating-linear-gradient(45deg, #7e7e7e, #7e7e7e 10px, #5c5c5c 10px, #5c5c5c 20px);\n",
              "    }\n",
              "    .progress-bar-interrupted, .progress-bar-interrupted::-webkit-progress-bar {\n",
              "        background: #F44336;\n",
              "    }\n",
              "</style>\n"
            ]
          },
          "metadata": {}
        },
        {
          "output_type": "display_data",
          "data": {
            "text/plain": [
              "<IPython.core.display.HTML object>"
            ],
            "text/html": []
          },
          "metadata": {}
        }
      ]
    },
    {
      "cell_type": "code",
      "execution_count": null,
      "metadata": {
        "id": "1_AZPju9maLi",
        "colab": {
          "base_uri": "https://localhost:8080/",
          "height": 184,
          "referenced_widgets": [
            "84fd7c7321ec498da103b2347e9cd05c",
            "5004fa882a7544639d4a2840d19a0ab7",
            "f8e9392a85d74224a1622c8d95d1dfbd",
            "fd58f4129b574a99b7745c5e26ec859a",
            "a99b15f54a584620b1d06cfab92d3370",
            "de1b55230d5c46c8ac174affce70acb5",
            "5068bdbfc8d44c54bbfff70f7e8c7ac2",
            "455477c46ab6445887af3dc4a167560a",
            "02e44deda52947a288b043e3a4a9f1d7",
            "7a026b0c3c4240a194be7cf9b058a54b",
            "894651c78c7440708ec257ba6a510500",
            "93e53bf5df0a4ad4a54313497cce587b",
            "cabdd7637560497494fce70b309cc6cf"
          ]
        },
        "outputId": "842d0ab3-8c8d-4bca-b682-e5c119ea8d39"
      },
      "outputs": [
        {
          "output_type": "display_data",
          "data": {
            "text/plain": [
              "VBox(children=(Label(value='Select your large rodent!'), FileUpload(value={}, description='Upload'), Output(),…"
            ],
            "application/vnd.jupyter.widget-view+json": {
              "version_major": 2,
              "version_minor": 0,
              "model_id": "84fd7c7321ec498da103b2347e9cd05c"
            }
          },
          "metadata": {}
        },
        {
          "output_type": "display_data",
          "data": {
            "text/plain": [
              "<IPython.core.display.HTML object>"
            ],
            "text/html": [
              "\n",
              "<style>\n",
              "    /* Turns off some styling */\n",
              "    progress {\n",
              "        /* gets rid of default border in Firefox and Opera. */\n",
              "        border: none;\n",
              "        /* Needs to be in here for Safari polyfill so background images work as expected. */\n",
              "        background-size: auto;\n",
              "    }\n",
              "    progress:not([value]), progress:not([value])::-webkit-progress-bar {\n",
              "        background: repeating-linear-gradient(45deg, #7e7e7e, #7e7e7e 10px, #5c5c5c 10px, #5c5c5c 20px);\n",
              "    }\n",
              "    .progress-bar-interrupted, .progress-bar-interrupted::-webkit-progress-bar {\n",
              "        background: #F44336;\n",
              "    }\n",
              "</style>\n"
            ]
          },
          "metadata": {}
        },
        {
          "output_type": "display_data",
          "data": {
            "text/plain": [
              "<IPython.core.display.HTML object>"
            ],
            "text/html": []
          },
          "metadata": {}
        }
      ],
      "source": [
        "#upload_button = widgets.FileUpload()\n",
        "#output_button = widgets.Output()\n",
        "#label_pred = widgets.Label()\n",
        "#\n",
        "#def on_click_classify(change):\n",
        "#  img = PILImage.create(upload_button.data[-1])\n",
        "#  output_button.clear_output()\n",
        "#  with output_button:\n",
        "#      display(img.to_thumb(128,128))\n",
        "#  pred, pred_idx, probs = learn_inf.predict(img)\n",
        "#  label_pred.value = f'Prediction: {pred}, Probability: {probs[pred_idx]:.04f}'\n",
        "#\n",
        "#upload_button.observe(on_click_classify, names=['data'])\n",
        "#\n",
        "#display(VBox([widgets.Label('Select your large rodent!'),\n",
        "#      upload_button, output_button, label_pred\n",
        "#      ]\n",
        "#     ))"
      ]
    },
    {
      "cell_type": "code",
      "source": [
        "#btn_upload = widgets.FileUpload()\n",
        "#out_pl = widgets.Output()\n",
        "#lbl_pred = widgets.Label()"
      ],
      "metadata": {
        "id": "q3uLOvyYotNL"
      },
      "execution_count": null,
      "outputs": []
    },
    {
      "cell_type": "code",
      "source": [
        "#def on_data_change(change):\n",
        "#    img = PILImage.create(btn_upload.data[-1])\n",
        "#    out_pl.clear_output()\n",
        "#    with out_pl: display(img.to_thumb(128,128))\n",
        "#    pred,pred_idx,probs = learn_inf.predict(img)\n",
        "#    lbl_pred.value = f'Prediction: {pred}; Probability: {probs[pred_idx]:.04f}'"
      ],
      "metadata": {
        "id": "pjKhTIdMowRo"
      },
      "execution_count": null,
      "outputs": []
    },
    {
      "cell_type": "code",
      "source": [
        "#btn_upload.observe(on_data_change, names=['data'])"
      ],
      "metadata": {
        "id": "CBf8prKgoyQ2"
      },
      "execution_count": null,
      "outputs": []
    },
    {
      "cell_type": "code",
      "source": [
        "#display(VBox([widgets.Label('Select your large rodent!'), btn_upload, out_pl, lbl_pred]))"
      ],
      "metadata": {
        "id": "Me0iUQlmoz2a"
      },
      "execution_count": null,
      "outputs": []
    }
  ],
  "metadata": {
    "accelerator": "GPU",
    "colab": {
      "gpuType": "T4",
      "provenance": [],
      "authorship_tag": "ABX9TyNsHn5Y5tSh1qrEWkFnlYJ4"
    },
    "kernelspec": {
      "display_name": "Python 3",
      "name": "python3"
    },
    "language_info": {
      "name": "python"
    },
    "widgets": {
      "application/vnd.jupyter.widget-state+json": {
        "84fd7c7321ec498da103b2347e9cd05c": {
          "model_module": "@jupyter-widgets/controls",
          "model_name": "VBoxModel",
          "model_module_version": "1.5.0",
          "state": {
            "_dom_classes": [],
            "_model_module": "@jupyter-widgets/controls",
            "_model_module_version": "1.5.0",
            "_model_name": "VBoxModel",
            "_view_count": null,
            "_view_module": "@jupyter-widgets/controls",
            "_view_module_version": "1.5.0",
            "_view_name": "VBoxView",
            "box_style": "",
            "children": [
              "IPY_MODEL_5004fa882a7544639d4a2840d19a0ab7",
              "IPY_MODEL_f8e9392a85d74224a1622c8d95d1dfbd",
              "IPY_MODEL_fd58f4129b574a99b7745c5e26ec859a",
              "IPY_MODEL_a99b15f54a584620b1d06cfab92d3370"
            ],
            "layout": "IPY_MODEL_de1b55230d5c46c8ac174affce70acb5"
          }
        },
        "5004fa882a7544639d4a2840d19a0ab7": {
          "model_module": "@jupyter-widgets/controls",
          "model_name": "LabelModel",
          "model_module_version": "1.5.0",
          "state": {
            "_dom_classes": [],
            "_model_module": "@jupyter-widgets/controls",
            "_model_module_version": "1.5.0",
            "_model_name": "LabelModel",
            "_view_count": null,
            "_view_module": "@jupyter-widgets/controls",
            "_view_module_version": "1.5.0",
            "_view_name": "LabelView",
            "description": "",
            "description_tooltip": null,
            "layout": "IPY_MODEL_5068bdbfc8d44c54bbfff70f7e8c7ac2",
            "placeholder": "​",
            "style": "IPY_MODEL_455477c46ab6445887af3dc4a167560a",
            "value": "Select your large rodent!"
          }
        },
        "f8e9392a85d74224a1622c8d95d1dfbd": {
          "model_module": "@jupyter-widgets/controls",
          "model_name": "FileUploadModel",
          "model_module_version": "1.5.0",
          "state": {
            "_counter": 1,
            "_dom_classes": [],
            "_model_module": "@jupyter-widgets/controls",
            "_model_module_version": "1.5.0",
            "_model_name": "FileUploadModel",
            "_view_count": null,
            "_view_module": "@jupyter-widgets/controls",
            "_view_module_version": "1.5.0",
            "_view_name": "FileUploadView",
            "accept": "",
            "button_style": "",
            "data": [
              null
            ],
            "description": "Upload",
            "description_tooltip": null,
            "disabled": false,
            "error": "",
            "icon": "upload",
            "layout": "IPY_MODEL_02e44deda52947a288b043e3a4a9f1d7",
            "metadata": [
              {
                "name": "paca.jpeg",
                "type": "image/jpeg",
                "size": 9718,
                "lastModified": 1709306446668
              }
            ],
            "multiple": false,
            "style": "IPY_MODEL_7a026b0c3c4240a194be7cf9b058a54b"
          }
        },
        "fd58f4129b574a99b7745c5e26ec859a": {
          "model_module": "@jupyter-widgets/output",
          "model_name": "OutputModel",
          "model_module_version": "1.0.0",
          "state": {
            "_dom_classes": [],
            "_model_module": "@jupyter-widgets/output",
            "_model_module_version": "1.0.0",
            "_model_name": "OutputModel",
            "_view_count": null,
            "_view_module": "@jupyter-widgets/output",
            "_view_module_version": "1.0.0",
            "_view_name": "OutputView",
            "layout": "IPY_MODEL_cabdd7637560497494fce70b309cc6cf",
            "msg_id": "",
            "outputs": [
              {
                "output_type": "display_data",
                "data": {
                  "text/plain": "<PIL.Image.Image image mode=RGB size=128x71>",
                  "image/png": "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\n"
                },
                "metadata": {}
              }
            ]
          }
        },
        "a99b15f54a584620b1d06cfab92d3370": {
          "model_module": "@jupyter-widgets/controls",
          "model_name": "LabelModel",
          "model_module_version": "1.5.0",
          "state": {
            "_dom_classes": [],
            "_model_module": "@jupyter-widgets/controls",
            "_model_module_version": "1.5.0",
            "_model_name": "LabelModel",
            "_view_count": null,
            "_view_module": "@jupyter-widgets/controls",
            "_view_module_version": "1.5.0",
            "_view_name": "LabelView",
            "description": "",
            "description_tooltip": null,
            "layout": "IPY_MODEL_894651c78c7440708ec257ba6a510500",
            "placeholder": "​",
            "style": "IPY_MODEL_93e53bf5df0a4ad4a54313497cce587b",
            "value": "Prediction: paca, Probability: 0.6440"
          }
        },
        "de1b55230d5c46c8ac174affce70acb5": {
          "model_module": "@jupyter-widgets/base",
          "model_name": "LayoutModel",
          "model_module_version": "1.2.0",
          "state": {
            "_model_module": "@jupyter-widgets/base",
            "_model_module_version": "1.2.0",
            "_model_name": "LayoutModel",
            "_view_count": null,
            "_view_module": "@jupyter-widgets/base",
            "_view_module_version": "1.2.0",
            "_view_name": "LayoutView",
            "align_content": null,
            "align_items": null,
            "align_self": null,
            "border": null,
            "bottom": null,
            "display": null,
            "flex": null,
            "flex_flow": null,
            "grid_area": null,
            "grid_auto_columns": null,
            "grid_auto_flow": null,
            "grid_auto_rows": null,
            "grid_column": null,
            "grid_gap": null,
            "grid_row": null,
            "grid_template_areas": null,
            "grid_template_columns": null,
            "grid_template_rows": null,
            "height": null,
            "justify_content": null,
            "justify_items": null,
            "left": null,
            "margin": null,
            "max_height": null,
            "max_width": null,
            "min_height": null,
            "min_width": null,
            "object_fit": null,
            "object_position": null,
            "order": null,
            "overflow": null,
            "overflow_x": null,
            "overflow_y": null,
            "padding": null,
            "right": null,
            "top": null,
            "visibility": null,
            "width": null
          }
        },
        "5068bdbfc8d44c54bbfff70f7e8c7ac2": {
          "model_module": "@jupyter-widgets/base",
          "model_name": "LayoutModel",
          "model_module_version": "1.2.0",
          "state": {
            "_model_module": "@jupyter-widgets/base",
            "_model_module_version": "1.2.0",
            "_model_name": "LayoutModel",
            "_view_count": null,
            "_view_module": "@jupyter-widgets/base",
            "_view_module_version": "1.2.0",
            "_view_name": "LayoutView",
            "align_content": null,
            "align_items": null,
            "align_self": null,
            "border": null,
            "bottom": null,
            "display": null,
            "flex": null,
            "flex_flow": null,
            "grid_area": null,
            "grid_auto_columns": null,
            "grid_auto_flow": null,
            "grid_auto_rows": null,
            "grid_column": null,
            "grid_gap": null,
            "grid_row": null,
            "grid_template_areas": null,
            "grid_template_columns": null,
            "grid_template_rows": null,
            "height": null,
            "justify_content": null,
            "justify_items": null,
            "left": null,
            "margin": null,
            "max_height": null,
            "max_width": null,
            "min_height": null,
            "min_width": null,
            "object_fit": null,
            "object_position": null,
            "order": null,
            "overflow": null,
            "overflow_x": null,
            "overflow_y": null,
            "padding": null,
            "right": null,
            "top": null,
            "visibility": null,
            "width": null
          }
        },
        "455477c46ab6445887af3dc4a167560a": {
          "model_module": "@jupyter-widgets/controls",
          "model_name": "DescriptionStyleModel",
          "model_module_version": "1.5.0",
          "state": {
            "_model_module": "@jupyter-widgets/controls",
            "_model_module_version": "1.5.0",
            "_model_name": "DescriptionStyleModel",
            "_view_count": null,
            "_view_module": "@jupyter-widgets/base",
            "_view_module_version": "1.2.0",
            "_view_name": "StyleView",
            "description_width": ""
          }
        },
        "02e44deda52947a288b043e3a4a9f1d7": {
          "model_module": "@jupyter-widgets/base",
          "model_name": "LayoutModel",
          "model_module_version": "1.2.0",
          "state": {
            "_model_module": "@jupyter-widgets/base",
            "_model_module_version": "1.2.0",
            "_model_name": "LayoutModel",
            "_view_count": null,
            "_view_module": "@jupyter-widgets/base",
            "_view_module_version": "1.2.0",
            "_view_name": "LayoutView",
            "align_content": null,
            "align_items": null,
            "align_self": null,
            "border": null,
            "bottom": null,
            "display": null,
            "flex": null,
            "flex_flow": null,
            "grid_area": null,
            "grid_auto_columns": null,
            "grid_auto_flow": null,
            "grid_auto_rows": null,
            "grid_column": null,
            "grid_gap": null,
            "grid_row": null,
            "grid_template_areas": null,
            "grid_template_columns": null,
            "grid_template_rows": null,
            "height": null,
            "justify_content": null,
            "justify_items": null,
            "left": null,
            "margin": null,
            "max_height": null,
            "max_width": null,
            "min_height": null,
            "min_width": null,
            "object_fit": null,
            "object_position": null,
            "order": null,
            "overflow": null,
            "overflow_x": null,
            "overflow_y": null,
            "padding": null,
            "right": null,
            "top": null,
            "visibility": null,
            "width": null
          }
        },
        "7a026b0c3c4240a194be7cf9b058a54b": {
          "model_module": "@jupyter-widgets/controls",
          "model_name": "ButtonStyleModel",
          "model_module_version": "1.5.0",
          "state": {
            "_model_module": "@jupyter-widgets/controls",
            "_model_module_version": "1.5.0",
            "_model_name": "ButtonStyleModel",
            "_view_count": null,
            "_view_module": "@jupyter-widgets/base",
            "_view_module_version": "1.2.0",
            "_view_name": "StyleView",
            "button_color": null,
            "font_weight": ""
          }
        },
        "894651c78c7440708ec257ba6a510500": {
          "model_module": "@jupyter-widgets/base",
          "model_name": "LayoutModel",
          "model_module_version": "1.2.0",
          "state": {
            "_model_module": "@jupyter-widgets/base",
            "_model_module_version": "1.2.0",
            "_model_name": "LayoutModel",
            "_view_count": null,
            "_view_module": "@jupyter-widgets/base",
            "_view_module_version": "1.2.0",
            "_view_name": "LayoutView",
            "align_content": null,
            "align_items": null,
            "align_self": null,
            "border": null,
            "bottom": null,
            "display": null,
            "flex": null,
            "flex_flow": null,
            "grid_area": null,
            "grid_auto_columns": null,
            "grid_auto_flow": null,
            "grid_auto_rows": null,
            "grid_column": null,
            "grid_gap": null,
            "grid_row": null,
            "grid_template_areas": null,
            "grid_template_columns": null,
            "grid_template_rows": null,
            "height": null,
            "justify_content": null,
            "justify_items": null,
            "left": null,
            "margin": null,
            "max_height": null,
            "max_width": null,
            "min_height": null,
            "min_width": null,
            "object_fit": null,
            "object_position": null,
            "order": null,
            "overflow": null,
            "overflow_x": null,
            "overflow_y": null,
            "padding": null,
            "right": null,
            "top": null,
            "visibility": null,
            "width": null
          }
        },
        "93e53bf5df0a4ad4a54313497cce587b": {
          "model_module": "@jupyter-widgets/controls",
          "model_name": "DescriptionStyleModel",
          "model_module_version": "1.5.0",
          "state": {
            "_model_module": "@jupyter-widgets/controls",
            "_model_module_version": "1.5.0",
            "_model_name": "DescriptionStyleModel",
            "_view_count": null,
            "_view_module": "@jupyter-widgets/base",
            "_view_module_version": "1.2.0",
            "_view_name": "StyleView",
            "description_width": ""
          }
        },
        "cabdd7637560497494fce70b309cc6cf": {
          "model_module": "@jupyter-widgets/base",
          "model_name": "LayoutModel",
          "model_module_version": "1.2.0",
          "state": {
            "_model_module": "@jupyter-widgets/base",
            "_model_module_version": "1.2.0",
            "_model_name": "LayoutModel",
            "_view_count": null,
            "_view_module": "@jupyter-widgets/base",
            "_view_module_version": "1.2.0",
            "_view_name": "LayoutView",
            "align_content": null,
            "align_items": null,
            "align_self": null,
            "border": null,
            "bottom": null,
            "display": null,
            "flex": null,
            "flex_flow": null,
            "grid_area": null,
            "grid_auto_columns": null,
            "grid_auto_flow": null,
            "grid_auto_rows": null,
            "grid_column": null,
            "grid_gap": null,
            "grid_row": null,
            "grid_template_areas": null,
            "grid_template_columns": null,
            "grid_template_rows": null,
            "height": null,
            "justify_content": null,
            "justify_items": null,
            "left": null,
            "margin": null,
            "max_height": null,
            "max_width": null,
            "min_height": null,
            "min_width": null,
            "object_fit": null,
            "object_position": null,
            "order": null,
            "overflow": null,
            "overflow_x": null,
            "overflow_y": null,
            "padding": null,
            "right": null,
            "top": null,
            "visibility": null,
            "width": null
          }
        },
        "5b8aced1b64e48299872f28d65651e52": {
          "model_module": "@jupyter-widgets/controls",
          "model_name": "VBoxModel",
          "model_module_version": "1.5.0",
          "state": {
            "_dom_classes": [],
            "_model_module": "@jupyter-widgets/controls",
            "_model_module_version": "1.5.0",
            "_model_name": "VBoxModel",
            "_view_count": null,
            "_view_module": "@jupyter-widgets/controls",
            "_view_module_version": "1.5.0",
            "_view_name": "VBoxView",
            "box_style": "",
            "children": [
              "IPY_MODEL_0d330d2e8b4b432fb71691930b5b6898",
              "IPY_MODEL_a7d7926123854a86a1d5855b102126bb",
              "IPY_MODEL_6bb2521adb6845c4a8ad408e08b5aec0",
              "IPY_MODEL_3f2d2db61ffa4bbbb03a8f128cc0e730",
              "IPY_MODEL_aa6be74d93ab45849d2cdd4176887cf8"
            ],
            "layout": "IPY_MODEL_898e9df4fc6c4897acb0ce211c7a34db"
          }
        },
        "0d330d2e8b4b432fb71691930b5b6898": {
          "model_module": "@jupyter-widgets/controls",
          "model_name": "LabelModel",
          "model_module_version": "1.5.0",
          "state": {
            "_dom_classes": [],
            "_model_module": "@jupyter-widgets/controls",
            "_model_module_version": "1.5.0",
            "_model_name": "LabelModel",
            "_view_count": null,
            "_view_module": "@jupyter-widgets/controls",
            "_view_module_version": "1.5.0",
            "_view_name": "LabelView",
            "description": "",
            "description_tooltip": null,
            "layout": "IPY_MODEL_2b9522cef12e49c782b3c41d53602696",
            "placeholder": "​",
            "style": "IPY_MODEL_9e4d2ca8fe14474183af85dca924a271",
            "value": "Select your large rodent!"
          }
        },
        "a7d7926123854a86a1d5855b102126bb": {
          "model_module": "@jupyter-widgets/controls",
          "model_name": "FileUploadModel",
          "model_module_version": "1.5.0",
          "state": {
            "_counter": 1,
            "_dom_classes": [],
            "_model_module": "@jupyter-widgets/controls",
            "_model_module_version": "1.5.0",
            "_model_name": "FileUploadModel",
            "_view_count": null,
            "_view_module": "@jupyter-widgets/controls",
            "_view_module_version": "1.5.0",
            "_view_name": "FileUploadView",
            "accept": "",
            "button_style": "",
            "data": [
              null
            ],
            "description": "Upload",
            "description_tooltip": null,
            "disabled": false,
            "error": "",
            "icon": "upload",
            "layout": "IPY_MODEL_a1b7ab9c3d5c4613b9b90d78bfebd0a9",
            "metadata": [
              {
                "name": "paca.jpeg",
                "type": "image/jpeg",
                "size": 9718,
                "lastModified": 1709306446668
              }
            ],
            "multiple": false,
            "style": "IPY_MODEL_fc3d50e7e88844debc6ebf4b00d7121e"
          }
        },
        "6bb2521adb6845c4a8ad408e08b5aec0": {
          "model_module": "@jupyter-widgets/controls",
          "model_name": "ButtonModel",
          "model_module_version": "1.5.0",
          "state": {
            "_dom_classes": [],
            "_model_module": "@jupyter-widgets/controls",
            "_model_module_version": "1.5.0",
            "_model_name": "ButtonModel",
            "_view_count": null,
            "_view_module": "@jupyter-widgets/controls",
            "_view_module_version": "1.5.0",
            "_view_name": "ButtonView",
            "button_style": "",
            "description": "Classify",
            "disabled": false,
            "icon": "",
            "layout": "IPY_MODEL_8f8345d545fa4ca183b5a481a16284b5",
            "style": "IPY_MODEL_39dd3bf53b4c41b59c948b501e5fecde",
            "tooltip": ""
          }
        },
        "3f2d2db61ffa4bbbb03a8f128cc0e730": {
          "model_module": "@jupyter-widgets/output",
          "model_name": "OutputModel",
          "model_module_version": "1.0.0",
          "state": {
            "_dom_classes": [],
            "_model_module": "@jupyter-widgets/output",
            "_model_module_version": "1.0.0",
            "_model_name": "OutputModel",
            "_view_count": null,
            "_view_module": "@jupyter-widgets/output",
            "_view_module_version": "1.0.0",
            "_view_name": "OutputView",
            "layout": "IPY_MODEL_123c34d8fd25474e88eb2f26be575524",
            "msg_id": "",
            "outputs": [
              {
                "output_type": "display_data",
                "data": {
                  "text/plain": "<PIL.Image.Image image mode=RGB size=128x71>",
                  "image/png": "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\n"
                },
                "metadata": {}
              }
            ]
          }
        },
        "aa6be74d93ab45849d2cdd4176887cf8": {
          "model_module": "@jupyter-widgets/controls",
          "model_name": "LabelModel",
          "model_module_version": "1.5.0",
          "state": {
            "_dom_classes": [],
            "_model_module": "@jupyter-widgets/controls",
            "_model_module_version": "1.5.0",
            "_model_name": "LabelModel",
            "_view_count": null,
            "_view_module": "@jupyter-widgets/controls",
            "_view_module_version": "1.5.0",
            "_view_name": "LabelView",
            "description": "",
            "description_tooltip": null,
            "layout": "IPY_MODEL_9a1e172faba7420eaeef086e7fd6b6c4",
            "placeholder": "​",
            "style": "IPY_MODEL_60d8e8e135a644629177eaa120569c37",
            "value": "Prediction: paca, Probability: 0.6440"
          }
        },
        "898e9df4fc6c4897acb0ce211c7a34db": {
          "model_module": "@jupyter-widgets/base",
          "model_name": "LayoutModel",
          "model_module_version": "1.2.0",
          "state": {
            "_model_module": "@jupyter-widgets/base",
            "_model_module_version": "1.2.0",
            "_model_name": "LayoutModel",
            "_view_count": null,
            "_view_module": "@jupyter-widgets/base",
            "_view_module_version": "1.2.0",
            "_view_name": "LayoutView",
            "align_content": null,
            "align_items": null,
            "align_self": null,
            "border": null,
            "bottom": null,
            "display": null,
            "flex": null,
            "flex_flow": null,
            "grid_area": null,
            "grid_auto_columns": null,
            "grid_auto_flow": null,
            "grid_auto_rows": null,
            "grid_column": null,
            "grid_gap": null,
            "grid_row": null,
            "grid_template_areas": null,
            "grid_template_columns": null,
            "grid_template_rows": null,
            "height": null,
            "justify_content": null,
            "justify_items": null,
            "left": null,
            "margin": null,
            "max_height": null,
            "max_width": null,
            "min_height": null,
            "min_width": null,
            "object_fit": null,
            "object_position": null,
            "order": null,
            "overflow": null,
            "overflow_x": null,
            "overflow_y": null,
            "padding": null,
            "right": null,
            "top": null,
            "visibility": null,
            "width": null
          }
        },
        "2b9522cef12e49c782b3c41d53602696": {
          "model_module": "@jupyter-widgets/base",
          "model_name": "LayoutModel",
          "model_module_version": "1.2.0",
          "state": {
            "_model_module": "@jupyter-widgets/base",
            "_model_module_version": "1.2.0",
            "_model_name": "LayoutModel",
            "_view_count": null,
            "_view_module": "@jupyter-widgets/base",
            "_view_module_version": "1.2.0",
            "_view_name": "LayoutView",
            "align_content": null,
            "align_items": null,
            "align_self": null,
            "border": null,
            "bottom": null,
            "display": null,
            "flex": null,
            "flex_flow": null,
            "grid_area": null,
            "grid_auto_columns": null,
            "grid_auto_flow": null,
            "grid_auto_rows": null,
            "grid_column": null,
            "grid_gap": null,
            "grid_row": null,
            "grid_template_areas": null,
            "grid_template_columns": null,
            "grid_template_rows": null,
            "height": null,
            "justify_content": null,
            "justify_items": null,
            "left": null,
            "margin": null,
            "max_height": null,
            "max_width": null,
            "min_height": null,
            "min_width": null,
            "object_fit": null,
            "object_position": null,
            "order": null,
            "overflow": null,
            "overflow_x": null,
            "overflow_y": null,
            "padding": null,
            "right": null,
            "top": null,
            "visibility": null,
            "width": null
          }
        },
        "9e4d2ca8fe14474183af85dca924a271": {
          "model_module": "@jupyter-widgets/controls",
          "model_name": "DescriptionStyleModel",
          "model_module_version": "1.5.0",
          "state": {
            "_model_module": "@jupyter-widgets/controls",
            "_model_module_version": "1.5.0",
            "_model_name": "DescriptionStyleModel",
            "_view_count": null,
            "_view_module": "@jupyter-widgets/base",
            "_view_module_version": "1.2.0",
            "_view_name": "StyleView",
            "description_width": ""
          }
        },
        "a1b7ab9c3d5c4613b9b90d78bfebd0a9": {
          "model_module": "@jupyter-widgets/base",
          "model_name": "LayoutModel",
          "model_module_version": "1.2.0",
          "state": {
            "_model_module": "@jupyter-widgets/base",
            "_model_module_version": "1.2.0",
            "_model_name": "LayoutModel",
            "_view_count": null,
            "_view_module": "@jupyter-widgets/base",
            "_view_module_version": "1.2.0",
            "_view_name": "LayoutView",
            "align_content": null,
            "align_items": null,
            "align_self": null,
            "border": null,
            "bottom": null,
            "display": null,
            "flex": null,
            "flex_flow": null,
            "grid_area": null,
            "grid_auto_columns": null,
            "grid_auto_flow": null,
            "grid_auto_rows": null,
            "grid_column": null,
            "grid_gap": null,
            "grid_row": null,
            "grid_template_areas": null,
            "grid_template_columns": null,
            "grid_template_rows": null,
            "height": null,
            "justify_content": null,
            "justify_items": null,
            "left": null,
            "margin": null,
            "max_height": null,
            "max_width": null,
            "min_height": null,
            "min_width": null,
            "object_fit": null,
            "object_position": null,
            "order": null,
            "overflow": null,
            "overflow_x": null,
            "overflow_y": null,
            "padding": null,
            "right": null,
            "top": null,
            "visibility": null,
            "width": null
          }
        },
        "fc3d50e7e88844debc6ebf4b00d7121e": {
          "model_module": "@jupyter-widgets/controls",
          "model_name": "ButtonStyleModel",
          "model_module_version": "1.5.0",
          "state": {
            "_model_module": "@jupyter-widgets/controls",
            "_model_module_version": "1.5.0",
            "_model_name": "ButtonStyleModel",
            "_view_count": null,
            "_view_module": "@jupyter-widgets/base",
            "_view_module_version": "1.2.0",
            "_view_name": "StyleView",
            "button_color": null,
            "font_weight": ""
          }
        },
        "8f8345d545fa4ca183b5a481a16284b5": {
          "model_module": "@jupyter-widgets/base",
          "model_name": "LayoutModel",
          "model_module_version": "1.2.0",
          "state": {
            "_model_module": "@jupyter-widgets/base",
            "_model_module_version": "1.2.0",
            "_model_name": "LayoutModel",
            "_view_count": null,
            "_view_module": "@jupyter-widgets/base",
            "_view_module_version": "1.2.0",
            "_view_name": "LayoutView",
            "align_content": null,
            "align_items": null,
            "align_self": null,
            "border": null,
            "bottom": null,
            "display": null,
            "flex": null,
            "flex_flow": null,
            "grid_area": null,
            "grid_auto_columns": null,
            "grid_auto_flow": null,
            "grid_auto_rows": null,
            "grid_column": null,
            "grid_gap": null,
            "grid_row": null,
            "grid_template_areas": null,
            "grid_template_columns": null,
            "grid_template_rows": null,
            "height": null,
            "justify_content": null,
            "justify_items": null,
            "left": null,
            "margin": null,
            "max_height": null,
            "max_width": null,
            "min_height": null,
            "min_width": null,
            "object_fit": null,
            "object_position": null,
            "order": null,
            "overflow": null,
            "overflow_x": null,
            "overflow_y": null,
            "padding": null,
            "right": null,
            "top": null,
            "visibility": null,
            "width": null
          }
        },
        "39dd3bf53b4c41b59c948b501e5fecde": {
          "model_module": "@jupyter-widgets/controls",
          "model_name": "ButtonStyleModel",
          "model_module_version": "1.5.0",
          "state": {
            "_model_module": "@jupyter-widgets/controls",
            "_model_module_version": "1.5.0",
            "_model_name": "ButtonStyleModel",
            "_view_count": null,
            "_view_module": "@jupyter-widgets/base",
            "_view_module_version": "1.2.0",
            "_view_name": "StyleView",
            "button_color": null,
            "font_weight": ""
          }
        },
        "9a1e172faba7420eaeef086e7fd6b6c4": {
          "model_module": "@jupyter-widgets/base",
          "model_name": "LayoutModel",
          "model_module_version": "1.2.0",
          "state": {
            "_model_module": "@jupyter-widgets/base",
            "_model_module_version": "1.2.0",
            "_model_name": "LayoutModel",
            "_view_count": null,
            "_view_module": "@jupyter-widgets/base",
            "_view_module_version": "1.2.0",
            "_view_name": "LayoutView",
            "align_content": null,
            "align_items": null,
            "align_self": null,
            "border": null,
            "bottom": null,
            "display": null,
            "flex": null,
            "flex_flow": null,
            "grid_area": null,
            "grid_auto_columns": null,
            "grid_auto_flow": null,
            "grid_auto_rows": null,
            "grid_column": null,
            "grid_gap": null,
            "grid_row": null,
            "grid_template_areas": null,
            "grid_template_columns": null,
            "grid_template_rows": null,
            "height": null,
            "justify_content": null,
            "justify_items": null,
            "left": null,
            "margin": null,
            "max_height": null,
            "max_width": null,
            "min_height": null,
            "min_width": null,
            "object_fit": null,
            "object_position": null,
            "order": null,
            "overflow": null,
            "overflow_x": null,
            "overflow_y": null,
            "padding": null,
            "right": null,
            "top": null,
            "visibility": null,
            "width": null
          }
        },
        "60d8e8e135a644629177eaa120569c37": {
          "model_module": "@jupyter-widgets/controls",
          "model_name": "DescriptionStyleModel",
          "model_module_version": "1.5.0",
          "state": {
            "_model_module": "@jupyter-widgets/controls",
            "_model_module_version": "1.5.0",
            "_model_name": "DescriptionStyleModel",
            "_view_count": null,
            "_view_module": "@jupyter-widgets/base",
            "_view_module_version": "1.2.0",
            "_view_name": "StyleView",
            "description_width": ""
          }
        },
        "123c34d8fd25474e88eb2f26be575524": {
          "model_module": "@jupyter-widgets/base",
          "model_name": "LayoutModel",
          "model_module_version": "1.2.0",
          "state": {
            "_model_module": "@jupyter-widgets/base",
            "_model_module_version": "1.2.0",
            "_model_name": "LayoutModel",
            "_view_count": null,
            "_view_module": "@jupyter-widgets/base",
            "_view_module_version": "1.2.0",
            "_view_name": "LayoutView",
            "align_content": null,
            "align_items": null,
            "align_self": null,
            "border": null,
            "bottom": null,
            "display": null,
            "flex": null,
            "flex_flow": null,
            "grid_area": null,
            "grid_auto_columns": null,
            "grid_auto_flow": null,
            "grid_auto_rows": null,
            "grid_column": null,
            "grid_gap": null,
            "grid_row": null,
            "grid_template_areas": null,
            "grid_template_columns": null,
            "grid_template_rows": null,
            "height": null,
            "justify_content": null,
            "justify_items": null,
            "left": null,
            "margin": null,
            "max_height": null,
            "max_width": null,
            "min_height": null,
            "min_width": null,
            "object_fit": null,
            "object_position": null,
            "order": null,
            "overflow": null,
            "overflow_x": null,
            "overflow_y": null,
            "padding": null,
            "right": null,
            "top": null,
            "visibility": null,
            "width": null
          }
        }
      }
    }
  },
  "nbformat": 4,
  "nbformat_minor": 0
}