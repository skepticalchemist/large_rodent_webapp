{
  "cells": [
    {
      "cell_type": "code",
      "execution_count": 3,
      "metadata": {
        "id": "hSPaI3-4E1Ic"
      },
      "outputs": [],
      "source": [
        "from fastai.vision.all import *\n",
        "from fastai.vision.widgets import *"
      ]
    },
    {
      "cell_type": "markdown",
      "source": [
        "# Predicting whether an image contains a paca, an agouti or a capybara\n",
        "\n",
        "* Load an image of the potentially large rodent, then click upload button to get the answer."
      ],
      "metadata": {
        "id": "ZDFCdOM0Wn8d"
      }
    },
    {
      "cell_type": "code",
      "execution_count": 10,
      "metadata": {
        "id": "ORkAwY4MlJgH"
      },
      "outputs": [],
      "source": [
        "path = Path()\n",
        "learn_inf = load_learner(path/'export.pkl', cpu=True)"
      ]
    },
    {
      "cell_type": "code",
      "source": [
        "upload_button = widgets.FileUpload()\n",
        "out_put = widgets.Output()\n",
        "label_pred = widgets.Label()\n",
        "# run_button = widgets.Button(description='Classify')"
      ],
      "metadata": {
        "id": "aTWz5Ar4WcEi"
      },
      "execution_count": 19,
      "outputs": []
    },
    {
      "cell_type": "code",
      "source": [
        "def on_click_classify(change):\n",
        "  label_pred.value = ''\n",
        "  img = PILImage.create(upload_button.data[-1])\n",
        "  out_put.clear_output()\n",
        "  with out_put:\n",
        "      display(img.to_thumb(128,128))\n",
        "  pred, pred_idx, probs = learn_inf.predict(img)\n",
        "  label_pred.value = f'Prediction: {pred}, Probability: {probs[pred_idx]:.04f}'"
      ],
      "metadata": {
        "id": "lE-HXaUMWczI"
      },
      "execution_count": 20,
      "outputs": []
    },
    {
      "cell_type": "code",
      "source": [
        "# run_button.on_click(on_click_classify)\n",
        "upload_button.observe(on_click_classify, names=['data'])"
      ],
      "metadata": {
        "id": "r_Orf2nvWfNL"
      },
      "execution_count": 22,
      "outputs": []
    },
    {
      "cell_type": "code",
      "source": [
        "display(VBox([widgets.Label('Select a picture of a large rodent!'),\n",
        "      # upload_button, run_button, out_put, label_pred\n",
        "      upload_button, out_put, label_pred]))"
      ],
      "metadata": {
        "colab": {
          "base_uri": "https://localhost:8080/",
          "height": 190,
          "referenced_widgets": [
            "72a315cf4ba042cea05c6e827fe100d0",
            "29fb7b7a73ad48ed839b0ae104339661",
            "a4078943016b4050bc2c76a54597d8da",
            "59044f917d824a7db39582b2e4af591e",
            "147a68223f354e07997a9353dcd03e51",
            "843e5cf6350c40ea87fd641478b5b836",
            "ba0ea6680eb840728a010deb82dd9c6a",
            "faa108977c7c4c858599475d26b590e5",
            "fb9ff32020e4495fb9bdd0673772d25d",
            "52688289845543a6b3340e8fc9ac77a5",
            "0b3924b9d0f041a8adce8b34d621e205",
            "30b692cb10ac424684694ef3faabc01a",
            "2ef1f5a04dcf4db5b66da77f7f6350be"
          ]
        },
        "id": "9I2fr8xPWhVd",
        "outputId": "6c141840-6fc6-4afc-cad8-040d22bc8131"
      },
      "execution_count": 23,
      "outputs": [
        {
          "output_type": "display_data",
          "data": {
            "text/plain": [
              "VBox(children=(Label(value='Select a picture of a large rodent!'), FileUpload(value={'paca.jpeg': {'metadata':…"
            ],
            "application/vnd.jupyter.widget-view+json": {
              "version_major": 2,
              "version_minor": 0,
              "model_id": "72a315cf4ba042cea05c6e827fe100d0"
            }
          },
          "metadata": {}
        },
        {
          "output_type": "display_data",
          "data": {
            "text/plain": [
              "<IPython.core.display.HTML object>"
            ],
            "text/html": [
              "\n",
              "<style>\n",
              "    /* Turns off some styling */\n",
              "    progress {\n",
              "        /* gets rid of default border in Firefox and Opera. */\n",
              "        border: none;\n",
              "        /* Needs to be in here for Safari polyfill so background images work as expected. */\n",
              "        background-size: auto;\n",
              "    }\n",
              "    progress:not([value]), progress:not([value])::-webkit-progress-bar {\n",
              "        background: repeating-linear-gradient(45deg, #7e7e7e, #7e7e7e 10px, #5c5c5c 10px, #5c5c5c 20px);\n",
              "    }\n",
              "    .progress-bar-interrupted, .progress-bar-interrupted::-webkit-progress-bar {\n",
              "        background: #F44336;\n",
              "    }\n",
              "</style>\n"
            ]
          },
          "metadata": {}
        },
        {
          "output_type": "display_data",
          "data": {
            "text/plain": [
              "<IPython.core.display.HTML object>"
            ],
            "text/html": []
          },
          "metadata": {}
        }
      ]
    }
  ],
  "metadata": {
    "accelerator": "GPU",
    "colab": {
      "gpuType": "T4",
      "provenance": [],
      "authorship_tag": "ABX9TyPiGUtrYWcBaFbT0+yisVik"
    },
    "kernelspec": {
      "display_name": "Python 3",
      "name": "python3"
    },
    "language_info": {
      "name": "python"
    },
    "widgets": {
      "application/vnd.jupyter.widget-state+json": {
        "72a315cf4ba042cea05c6e827fe100d0": {
          "model_module": "@jupyter-widgets/controls",
          "model_name": "VBoxModel",
          "model_module_version": "1.5.0",
          "state": {
            "_dom_classes": [],
            "_model_module": "@jupyter-widgets/controls",
            "_model_module_version": "1.5.0",
            "_model_name": "VBoxModel",
            "_view_count": null,
            "_view_module": "@jupyter-widgets/controls",
            "_view_module_version": "1.5.0",
            "_view_name": "VBoxView",
            "box_style": "",
            "children": [
              "IPY_MODEL_29fb7b7a73ad48ed839b0ae104339661",
              "IPY_MODEL_a4078943016b4050bc2c76a54597d8da",
              "IPY_MODEL_59044f917d824a7db39582b2e4af591e",
              "IPY_MODEL_147a68223f354e07997a9353dcd03e51"
            ],
            "layout": "IPY_MODEL_843e5cf6350c40ea87fd641478b5b836"
          }
        },
        "29fb7b7a73ad48ed839b0ae104339661": {
          "model_module": "@jupyter-widgets/controls",
          "model_name": "LabelModel",
          "model_module_version": "1.5.0",
          "state": {
            "_dom_classes": [],
            "_model_module": "@jupyter-widgets/controls",
            "_model_module_version": "1.5.0",
            "_model_name": "LabelModel",
            "_view_count": null,
            "_view_module": "@jupyter-widgets/controls",
            "_view_module_version": "1.5.0",
            "_view_name": "LabelView",
            "description": "",
            "description_tooltip": null,
            "layout": "IPY_MODEL_ba0ea6680eb840728a010deb82dd9c6a",
            "placeholder": "​",
            "style": "IPY_MODEL_faa108977c7c4c858599475d26b590e5",
            "value": "Select a picture of a large rodent!"
          }
        },
        "a4078943016b4050bc2c76a54597d8da": {
          "model_module": "@jupyter-widgets/controls",
          "model_name": "FileUploadModel",
          "model_module_version": "1.5.0",
          "state": {
            "_counter": 3,
            "_dom_classes": [],
            "_model_module": "@jupyter-widgets/controls",
            "_model_module_version": "1.5.0",
            "_model_name": "FileUploadModel",
            "_view_count": null,
            "_view_module": "@jupyter-widgets/controls",
            "_view_module_version": "1.5.0",
            "_view_name": "FileUploadView",
            "accept": "",
            "button_style": "",
            "data": [
              null
            ],
            "description": "Upload",
            "description_tooltip": null,
            "disabled": false,
            "error": "",
            "icon": "upload",
            "layout": "IPY_MODEL_fb9ff32020e4495fb9bdd0673772d25d",
            "metadata": [
              {
                "name": "cutia2.jpeg",
                "type": "image/jpeg",
                "size": 7862,
                "lastModified": 1709398938975
              }
            ],
            "multiple": false,
            "style": "IPY_MODEL_52688289845543a6b3340e8fc9ac77a5"
          }
        },
        "59044f917d824a7db39582b2e4af591e": {
          "model_module": "@jupyter-widgets/output",
          "model_name": "OutputModel",
          "model_module_version": "1.0.0",
          "state": {
            "_dom_classes": [],
            "_model_module": "@jupyter-widgets/output",
            "_model_module_version": "1.0.0",
            "_model_name": "OutputModel",
            "_view_count": null,
            "_view_module": "@jupyter-widgets/output",
            "_view_module_version": "1.0.0",
            "_view_name": "OutputView",
            "layout": "IPY_MODEL_2ef1f5a04dcf4db5b66da77f7f6350be",
            "msg_id": "",
            "outputs": [
              {
                "output_type": "display_data",
                "data": {
                  "text/plain": "<PIL.Image.Image image mode=RGB size=128x77>",
                  "image/png": "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\n"
                },
                "metadata": {}
              }
            ]
          }
        },
        "147a68223f354e07997a9353dcd03e51": {
          "model_module": "@jupyter-widgets/controls",
          "model_name": "LabelModel",
          "model_module_version": "1.5.0",
          "state": {
            "_dom_classes": [],
            "_model_module": "@jupyter-widgets/controls",
            "_model_module_version": "1.5.0",
            "_model_name": "LabelModel",
            "_view_count": null,
            "_view_module": "@jupyter-widgets/controls",
            "_view_module_version": "1.5.0",
            "_view_name": "LabelView",
            "description": "",
            "description_tooltip": null,
            "layout": "IPY_MODEL_0b3924b9d0f041a8adce8b34d621e205",
            "placeholder": "​",
            "style": "IPY_MODEL_30b692cb10ac424684694ef3faabc01a",
            "value": "Prediction: agouti, Probability: 0.9998"
          }
        },
        "843e5cf6350c40ea87fd641478b5b836": {
          "model_module": "@jupyter-widgets/base",
          "model_name": "LayoutModel",
          "model_module_version": "1.2.0",
          "state": {
            "_model_module": "@jupyter-widgets/base",
            "_model_module_version": "1.2.0",
            "_model_name": "LayoutModel",
            "_view_count": null,
            "_view_module": "@jupyter-widgets/base",
            "_view_module_version": "1.2.0",
            "_view_name": "LayoutView",
            "align_content": null,
            "align_items": null,
            "align_self": null,
            "border": null,
            "bottom": null,
            "display": null,
            "flex": null,
            "flex_flow": null,
            "grid_area": null,
            "grid_auto_columns": null,
            "grid_auto_flow": null,
            "grid_auto_rows": null,
            "grid_column": null,
            "grid_gap": null,
            "grid_row": null,
            "grid_template_areas": null,
            "grid_template_columns": null,
            "grid_template_rows": null,
            "height": null,
            "justify_content": null,
            "justify_items": null,
            "left": null,
            "margin": null,
            "max_height": null,
            "max_width": null,
            "min_height": null,
            "min_width": null,
            "object_fit": null,
            "object_position": null,
            "order": null,
            "overflow": null,
            "overflow_x": null,
            "overflow_y": null,
            "padding": null,
            "right": null,
            "top": null,
            "visibility": null,
            "width": null
          }
        },
        "ba0ea6680eb840728a010deb82dd9c6a": {
          "model_module": "@jupyter-widgets/base",
          "model_name": "LayoutModel",
          "model_module_version": "1.2.0",
          "state": {
            "_model_module": "@jupyter-widgets/base",
            "_model_module_version": "1.2.0",
            "_model_name": "LayoutModel",
            "_view_count": null,
            "_view_module": "@jupyter-widgets/base",
            "_view_module_version": "1.2.0",
            "_view_name": "LayoutView",
            "align_content": null,
            "align_items": null,
            "align_self": null,
            "border": null,
            "bottom": null,
            "display": null,
            "flex": null,
            "flex_flow": null,
            "grid_area": null,
            "grid_auto_columns": null,
            "grid_auto_flow": null,
            "grid_auto_rows": null,
            "grid_column": null,
            "grid_gap": null,
            "grid_row": null,
            "grid_template_areas": null,
            "grid_template_columns": null,
            "grid_template_rows": null,
            "height": null,
            "justify_content": null,
            "justify_items": null,
            "left": null,
            "margin": null,
            "max_height": null,
            "max_width": null,
            "min_height": null,
            "min_width": null,
            "object_fit": null,
            "object_position": null,
            "order": null,
            "overflow": null,
            "overflow_x": null,
            "overflow_y": null,
            "padding": null,
            "right": null,
            "top": null,
            "visibility": null,
            "width": null
          }
        },
        "faa108977c7c4c858599475d26b590e5": {
          "model_module": "@jupyter-widgets/controls",
          "model_name": "DescriptionStyleModel",
          "model_module_version": "1.5.0",
          "state": {
            "_model_module": "@jupyter-widgets/controls",
            "_model_module_version": "1.5.0",
            "_model_name": "DescriptionStyleModel",
            "_view_count": null,
            "_view_module": "@jupyter-widgets/base",
            "_view_module_version": "1.2.0",
            "_view_name": "StyleView",
            "description_width": ""
          }
        },
        "fb9ff32020e4495fb9bdd0673772d25d": {
          "model_module": "@jupyter-widgets/base",
          "model_name": "LayoutModel",
          "model_module_version": "1.2.0",
          "state": {
            "_model_module": "@jupyter-widgets/base",
            "_model_module_version": "1.2.0",
            "_model_name": "LayoutModel",
            "_view_count": null,
            "_view_module": "@jupyter-widgets/base",
            "_view_module_version": "1.2.0",
            "_view_name": "LayoutView",
            "align_content": null,
            "align_items": null,
            "align_self": null,
            "border": null,
            "bottom": null,
            "display": null,
            "flex": null,
            "flex_flow": null,
            "grid_area": null,
            "grid_auto_columns": null,
            "grid_auto_flow": null,
            "grid_auto_rows": null,
            "grid_column": null,
            "grid_gap": null,
            "grid_row": null,
            "grid_template_areas": null,
            "grid_template_columns": null,
            "grid_template_rows": null,
            "height": null,
            "justify_content": null,
            "justify_items": null,
            "left": null,
            "margin": null,
            "max_height": null,
            "max_width": null,
            "min_height": null,
            "min_width": null,
            "object_fit": null,
            "object_position": null,
            "order": null,
            "overflow": null,
            "overflow_x": null,
            "overflow_y": null,
            "padding": null,
            "right": null,
            "top": null,
            "visibility": null,
            "width": null
          }
        },
        "52688289845543a6b3340e8fc9ac77a5": {
          "model_module": "@jupyter-widgets/controls",
          "model_name": "ButtonStyleModel",
          "model_module_version": "1.5.0",
          "state": {
            "_model_module": "@jupyter-widgets/controls",
            "_model_module_version": "1.5.0",
            "_model_name": "ButtonStyleModel",
            "_view_count": null,
            "_view_module": "@jupyter-widgets/base",
            "_view_module_version": "1.2.0",
            "_view_name": "StyleView",
            "button_color": null,
            "font_weight": ""
          }
        },
        "0b3924b9d0f041a8adce8b34d621e205": {
          "model_module": "@jupyter-widgets/base",
          "model_name": "LayoutModel",
          "model_module_version": "1.2.0",
          "state": {
            "_model_module": "@jupyter-widgets/base",
            "_model_module_version": "1.2.0",
            "_model_name": "LayoutModel",
            "_view_count": null,
            "_view_module": "@jupyter-widgets/base",
            "_view_module_version": "1.2.0",
            "_view_name": "LayoutView",
            "align_content": null,
            "align_items": null,
            "align_self": null,
            "border": null,
            "bottom": null,
            "display": null,
            "flex": null,
            "flex_flow": null,
            "grid_area": null,
            "grid_auto_columns": null,
            "grid_auto_flow": null,
            "grid_auto_rows": null,
            "grid_column": null,
            "grid_gap": null,
            "grid_row": null,
            "grid_template_areas": null,
            "grid_template_columns": null,
            "grid_template_rows": null,
            "height": null,
            "justify_content": null,
            "justify_items": null,
            "left": null,
            "margin": null,
            "max_height": null,
            "max_width": null,
            "min_height": null,
            "min_width": null,
            "object_fit": null,
            "object_position": null,
            "order": null,
            "overflow": null,
            "overflow_x": null,
            "overflow_y": null,
            "padding": null,
            "right": null,
            "top": null,
            "visibility": null,
            "width": null
          }
        },
        "30b692cb10ac424684694ef3faabc01a": {
          "model_module": "@jupyter-widgets/controls",
          "model_name": "DescriptionStyleModel",
          "model_module_version": "1.5.0",
          "state": {
            "_model_module": "@jupyter-widgets/controls",
            "_model_module_version": "1.5.0",
            "_model_name": "DescriptionStyleModel",
            "_view_count": null,
            "_view_module": "@jupyter-widgets/base",
            "_view_module_version": "1.2.0",
            "_view_name": "StyleView",
            "description_width": ""
          }
        },
        "2ef1f5a04dcf4db5b66da77f7f6350be": {
          "model_module": "@jupyter-widgets/base",
          "model_name": "LayoutModel",
          "model_module_version": "1.2.0",
          "state": {
            "_model_module": "@jupyter-widgets/base",
            "_model_module_version": "1.2.0",
            "_model_name": "LayoutModel",
            "_view_count": null,
            "_view_module": "@jupyter-widgets/base",
            "_view_module_version": "1.2.0",
            "_view_name": "LayoutView",
            "align_content": null,
            "align_items": null,
            "align_self": null,
            "border": null,
            "bottom": null,
            "display": null,
            "flex": null,
            "flex_flow": null,
            "grid_area": null,
            "grid_auto_columns": null,
            "grid_auto_flow": null,
            "grid_auto_rows": null,
            "grid_column": null,
            "grid_gap": null,
            "grid_row": null,
            "grid_template_areas": null,
            "grid_template_columns": null,
            "grid_template_rows": null,
            "height": null,
            "justify_content": null,
            "justify_items": null,
            "left": null,
            "margin": null,
            "max_height": null,
            "max_width": null,
            "min_height": null,
            "min_width": null,
            "object_fit": null,
            "object_position": null,
            "order": null,
            "overflow": null,
            "overflow_x": null,
            "overflow_y": null,
            "padding": null,
            "right": null,
            "top": null,
            "visibility": null,
            "width": null
          }
        }
      }
    }
  },
  "nbformat": 4,
  "nbformat_minor": 0
}