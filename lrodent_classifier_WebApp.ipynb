{
  "cells": [
    {
      "cell_type": "code",
      "source": [
        "!pip install voila==0.4.0"
      ],
      "metadata": {
        "colab": {
          "base_uri": "https://localhost:8080/"
        },
        "id": "_0W_vtWjabVE",
        "outputId": "27ac6fe0-981f-4971-8239-0483a6b5d088"
      },
      "execution_count": 1,
      "outputs": [
        {
          "output_type": "stream",
          "name": "stdout",
          "text": [
            "Collecting voila==0.4.0\n",
            "  Downloading voila-0.4.0-py3-none-any.whl (5.5 MB)\n",
            "\u001b[2K     \u001b[90m━━━━━━━━━━━━━━━━━━━━━━━━━━━━━━━━━━━━━━━━\u001b[0m \u001b[32m5.5/5.5 MB\u001b[0m \u001b[31m13.3 MB/s\u001b[0m eta \u001b[36m0:00:00\u001b[0m\n",
            "\u001b[?25hRequirement already satisfied: jupyter-client<=7.4.1,>=6.1.3 in /usr/local/lib/python3.10/dist-packages (from voila==0.4.0) (6.1.12)\n",
            "Requirement already satisfied: jupyter-core>=4.11.0 in /usr/local/lib/python3.10/dist-packages (from voila==0.4.0) (5.7.1)\n",
            "Requirement already satisfied: jupyter-server<2.0.0,>=1.18 in /usr/local/lib/python3.10/dist-packages (from voila==0.4.0) (1.24.0)\n",
            "Collecting jupyterlab-server<3,>=2.3.0 (from voila==0.4.0)\n",
            "  Downloading jupyterlab_server-2.25.3-py3-none-any.whl (58 kB)\n",
            "\u001b[2K     \u001b[90m━━━━━━━━━━━━━━━━━━━━━━━━━━━━━━━━━━━━━━━━\u001b[0m \u001b[32m59.0/59.0 kB\u001b[0m \u001b[31m4.3 MB/s\u001b[0m eta \u001b[36m0:00:00\u001b[0m\n",
            "\u001b[?25hCollecting nbclient<0.8,>=0.4.0 (from voila==0.4.0)\n",
            "  Downloading nbclient-0.7.4-py3-none-any.whl (73 kB)\n",
            "\u001b[2K     \u001b[90m━━━━━━━━━━━━━━━━━━━━━━━━━━━━━━━━━━━━━━━━\u001b[0m \u001b[32m73.1/73.1 kB\u001b[0m \u001b[31m6.7 MB/s\u001b[0m eta \u001b[36m0:00:00\u001b[0m\n",
            "\u001b[?25hRequirement already satisfied: nbconvert<8,>=6.4.5 in /usr/local/lib/python3.10/dist-packages (from voila==0.4.0) (6.5.4)\n",
            "Requirement already satisfied: traitlets<6,>=5.0.3 in /usr/local/lib/python3.10/dist-packages (from voila==0.4.0) (5.7.1)\n",
            "Collecting websockets>=9.0 (from voila==0.4.0)\n",
            "  Downloading websockets-12.0-cp310-cp310-manylinux_2_5_x86_64.manylinux1_x86_64.manylinux_2_17_x86_64.manylinux2014_x86_64.whl (130 kB)\n",
            "\u001b[2K     \u001b[90m━━━━━━━━━━━━━━━━━━━━━━━━━━━━━━━━━━━━━━━━\u001b[0m \u001b[32m130.2/130.2 kB\u001b[0m \u001b[31m12.8 MB/s\u001b[0m eta \u001b[36m0:00:00\u001b[0m\n",
            "\u001b[?25hRequirement already satisfied: pyzmq>=13 in /usr/local/lib/python3.10/dist-packages (from jupyter-client<=7.4.1,>=6.1.3->voila==0.4.0) (23.2.1)\n",
            "Requirement already satisfied: python-dateutil>=2.1 in /usr/local/lib/python3.10/dist-packages (from jupyter-client<=7.4.1,>=6.1.3->voila==0.4.0) (2.8.2)\n",
            "Requirement already satisfied: tornado>=4.1 in /usr/local/lib/python3.10/dist-packages (from jupyter-client<=7.4.1,>=6.1.3->voila==0.4.0) (6.3.3)\n",
            "Requirement already satisfied: platformdirs>=2.5 in /usr/local/lib/python3.10/dist-packages (from jupyter-core>=4.11.0->voila==0.4.0) (4.2.0)\n",
            "Requirement already satisfied: anyio<4,>=3.1.0 in /usr/local/lib/python3.10/dist-packages (from jupyter-server<2.0.0,>=1.18->voila==0.4.0) (3.7.1)\n",
            "Requirement already satisfied: argon2-cffi in /usr/local/lib/python3.10/dist-packages (from jupyter-server<2.0.0,>=1.18->voila==0.4.0) (23.1.0)\n",
            "Requirement already satisfied: jinja2 in /usr/local/lib/python3.10/dist-packages (from jupyter-server<2.0.0,>=1.18->voila==0.4.0) (3.1.3)\n",
            "Requirement already satisfied: nbformat>=5.2.0 in /usr/local/lib/python3.10/dist-packages (from jupyter-server<2.0.0,>=1.18->voila==0.4.0) (5.9.2)\n",
            "Requirement already satisfied: packaging in /usr/local/lib/python3.10/dist-packages (from jupyter-server<2.0.0,>=1.18->voila==0.4.0) (23.2)\n",
            "Requirement already satisfied: prometheus-client in /usr/local/lib/python3.10/dist-packages (from jupyter-server<2.0.0,>=1.18->voila==0.4.0) (0.20.0)\n",
            "Requirement already satisfied: Send2Trash in /usr/local/lib/python3.10/dist-packages (from jupyter-server<2.0.0,>=1.18->voila==0.4.0) (1.8.2)\n",
            "Requirement already satisfied: terminado>=0.8.3 in /usr/local/lib/python3.10/dist-packages (from jupyter-server<2.0.0,>=1.18->voila==0.4.0) (0.18.0)\n",
            "Requirement already satisfied: websocket-client in /usr/local/lib/python3.10/dist-packages (from jupyter-server<2.0.0,>=1.18->voila==0.4.0) (1.7.0)\n",
            "Requirement already satisfied: babel>=2.10 in /usr/local/lib/python3.10/dist-packages (from jupyterlab-server<3,>=2.3.0->voila==0.4.0) (2.14.0)\n",
            "Collecting json5>=0.9.0 (from jupyterlab-server<3,>=2.3.0->voila==0.4.0)\n",
            "  Downloading json5-0.9.22-py3-none-any.whl (29 kB)\n",
            "Requirement already satisfied: jsonschema>=4.18.0 in /usr/local/lib/python3.10/dist-packages (from jupyterlab-server<3,>=2.3.0->voila==0.4.0) (4.19.2)\n",
            "Requirement already satisfied: requests>=2.31 in /usr/local/lib/python3.10/dist-packages (from jupyterlab-server<3,>=2.3.0->voila==0.4.0) (2.31.0)\n",
            "Requirement already satisfied: lxml in /usr/local/lib/python3.10/dist-packages (from nbconvert<8,>=6.4.5->voila==0.4.0) (4.9.4)\n",
            "Requirement already satisfied: beautifulsoup4 in /usr/local/lib/python3.10/dist-packages (from nbconvert<8,>=6.4.5->voila==0.4.0) (4.12.3)\n",
            "Requirement already satisfied: bleach in /usr/local/lib/python3.10/dist-packages (from nbconvert<8,>=6.4.5->voila==0.4.0) (6.1.0)\n",
            "Requirement already satisfied: defusedxml in /usr/local/lib/python3.10/dist-packages (from nbconvert<8,>=6.4.5->voila==0.4.0) (0.7.1)\n",
            "Requirement already satisfied: entrypoints>=0.2.2 in /usr/local/lib/python3.10/dist-packages (from nbconvert<8,>=6.4.5->voila==0.4.0) (0.4)\n",
            "Requirement already satisfied: jupyterlab-pygments in /usr/local/lib/python3.10/dist-packages (from nbconvert<8,>=6.4.5->voila==0.4.0) (0.3.0)\n",
            "Requirement already satisfied: MarkupSafe>=2.0 in /usr/local/lib/python3.10/dist-packages (from nbconvert<8,>=6.4.5->voila==0.4.0) (2.1.5)\n",
            "Requirement already satisfied: mistune<2,>=0.8.1 in /usr/local/lib/python3.10/dist-packages (from nbconvert<8,>=6.4.5->voila==0.4.0) (0.8.4)\n",
            "Requirement already satisfied: pandocfilters>=1.4.1 in /usr/local/lib/python3.10/dist-packages (from nbconvert<8,>=6.4.5->voila==0.4.0) (1.5.1)\n",
            "Requirement already satisfied: pygments>=2.4.1 in /usr/local/lib/python3.10/dist-packages (from nbconvert<8,>=6.4.5->voila==0.4.0) (2.16.1)\n",
            "Requirement already satisfied: tinycss2 in /usr/local/lib/python3.10/dist-packages (from nbconvert<8,>=6.4.5->voila==0.4.0) (1.2.1)\n",
            "Requirement already satisfied: idna>=2.8 in /usr/local/lib/python3.10/dist-packages (from anyio<4,>=3.1.0->jupyter-server<2.0.0,>=1.18->voila==0.4.0) (3.6)\n",
            "Requirement already satisfied: sniffio>=1.1 in /usr/local/lib/python3.10/dist-packages (from anyio<4,>=3.1.0->jupyter-server<2.0.0,>=1.18->voila==0.4.0) (1.3.1)\n",
            "Requirement already satisfied: exceptiongroup in /usr/local/lib/python3.10/dist-packages (from anyio<4,>=3.1.0->jupyter-server<2.0.0,>=1.18->voila==0.4.0) (1.2.0)\n",
            "Requirement already satisfied: attrs>=22.2.0 in /usr/local/lib/python3.10/dist-packages (from jsonschema>=4.18.0->jupyterlab-server<3,>=2.3.0->voila==0.4.0) (23.2.0)\n",
            "Requirement already satisfied: jsonschema-specifications>=2023.03.6 in /usr/local/lib/python3.10/dist-packages (from jsonschema>=4.18.0->jupyterlab-server<3,>=2.3.0->voila==0.4.0) (2023.12.1)\n",
            "Requirement already satisfied: referencing>=0.28.4 in /usr/local/lib/python3.10/dist-packages (from jsonschema>=4.18.0->jupyterlab-server<3,>=2.3.0->voila==0.4.0) (0.33.0)\n",
            "Requirement already satisfied: rpds-py>=0.7.1 in /usr/local/lib/python3.10/dist-packages (from jsonschema>=4.18.0->jupyterlab-server<3,>=2.3.0->voila==0.4.0) (0.18.0)\n",
            "Requirement already satisfied: fastjsonschema in /usr/local/lib/python3.10/dist-packages (from nbformat>=5.2.0->jupyter-server<2.0.0,>=1.18->voila==0.4.0) (2.19.1)\n",
            "Requirement already satisfied: six>=1.5 in /usr/local/lib/python3.10/dist-packages (from python-dateutil>=2.1->jupyter-client<=7.4.1,>=6.1.3->voila==0.4.0) (1.16.0)\n",
            "Requirement already satisfied: charset-normalizer<4,>=2 in /usr/local/lib/python3.10/dist-packages (from requests>=2.31->jupyterlab-server<3,>=2.3.0->voila==0.4.0) (3.3.2)\n",
            "Requirement already satisfied: urllib3<3,>=1.21.1 in /usr/local/lib/python3.10/dist-packages (from requests>=2.31->jupyterlab-server<3,>=2.3.0->voila==0.4.0) (2.0.7)\n",
            "Requirement already satisfied: certifi>=2017.4.17 in /usr/local/lib/python3.10/dist-packages (from requests>=2.31->jupyterlab-server<3,>=2.3.0->voila==0.4.0) (2024.2.2)\n",
            "Requirement already satisfied: ptyprocess in /usr/local/lib/python3.10/dist-packages (from terminado>=0.8.3->jupyter-server<2.0.0,>=1.18->voila==0.4.0) (0.7.0)\n",
            "Requirement already satisfied: argon2-cffi-bindings in /usr/local/lib/python3.10/dist-packages (from argon2-cffi->jupyter-server<2.0.0,>=1.18->voila==0.4.0) (21.2.0)\n",
            "Requirement already satisfied: soupsieve>1.2 in /usr/local/lib/python3.10/dist-packages (from beautifulsoup4->nbconvert<8,>=6.4.5->voila==0.4.0) (2.5)\n",
            "Requirement already satisfied: webencodings in /usr/local/lib/python3.10/dist-packages (from bleach->nbconvert<8,>=6.4.5->voila==0.4.0) (0.5.1)\n",
            "Requirement already satisfied: cffi>=1.0.1 in /usr/local/lib/python3.10/dist-packages (from argon2-cffi-bindings->argon2-cffi->jupyter-server<2.0.0,>=1.18->voila==0.4.0) (1.16.0)\n",
            "Requirement already satisfied: pycparser in /usr/local/lib/python3.10/dist-packages (from cffi>=1.0.1->argon2-cffi-bindings->argon2-cffi->jupyter-server<2.0.0,>=1.18->voila==0.4.0) (2.21)\n",
            "Installing collected packages: websockets, json5, nbclient, jupyterlab-server, voila\n",
            "  Attempting uninstall: nbclient\n",
            "    Found existing installation: nbclient 0.9.0\n",
            "    Uninstalling nbclient-0.9.0:\n",
            "      Successfully uninstalled nbclient-0.9.0\n",
            "Successfully installed json5-0.9.22 jupyterlab-server-2.25.3 nbclient-0.7.4 voila-0.4.0 websockets-12.0\n"
          ]
        }
      ]
    },
    {
      "cell_type": "code",
      "source": [
        "!jupyter serverextension enable voila --sys-prefix"
      ],
      "metadata": {
        "colab": {
          "base_uri": "https://localhost:8080/"
        },
        "id": "7KowkSgradZe",
        "outputId": "d9cf5063-02a5-42cd-a877-6ee51dde98cc"
      },
      "execution_count": 2,
      "outputs": [
        {
          "output_type": "stream",
          "name": "stdout",
          "text": [
            "Enabling: voila\n",
            "- Writing config: /usr/etc/jupyter\n",
            "    - Validating...\n",
            "      voila 0.4.0 \u001b[32mOK\u001b[0m\n"
          ]
        }
      ]
    },
    {
      "cell_type": "code",
      "execution_count": 3,
      "metadata": {
        "id": "hSPaI3-4E1Ic"
      },
      "outputs": [],
      "source": [
        "from fastai.vision.all import *\n",
        "from fastai.vision.widgets import *"
      ]
    },
    {
      "cell_type": "markdown",
      "source": [
        "# Predicting whether an image contains a paca, an agouti or a capybara\n",
        "\n",
        "* Load an image of the potentially large rodent, then click upload button to get the answer."
      ],
      "metadata": {
        "id": "ZDFCdOM0Wn8d"
      }
    },
    {
      "cell_type": "code",
      "execution_count": 4,
      "metadata": {
        "id": "ORkAwY4MlJgH"
      },
      "outputs": [],
      "source": [
        "path = Path()\n",
        "learn_inf = load_learner(path/'export.pkl', cpu=True)"
      ]
    },
    {
      "cell_type": "code",
      "source": [
        "upload_button = widgets.FileUpload()\n",
        "out_put = widgets.Output()\n",
        "label_pred = widgets.Label()\n",
        "# run_button = widgets.Button(description='Classify')"
      ],
      "metadata": {
        "id": "aTWz5Ar4WcEi"
      },
      "execution_count": 5,
      "outputs": []
    },
    {
      "cell_type": "code",
      "source": [
        "def on_click_classify(change):\n",
        "  label_pred.value = ''\n",
        "  img = PILImage.create(upload_button.data[-1])\n",
        "  out_put.clear_output()\n",
        "  with out_put:\n",
        "      display(img.to_thumb(128,128))\n",
        "  pred, pred_idx, probs = learn_inf.predict(img)\n",
        "  label_pred.value = f'Prediction: {pred}, Probability: {probs[pred_idx]:.04f}'"
      ],
      "metadata": {
        "id": "lE-HXaUMWczI"
      },
      "execution_count": 6,
      "outputs": []
    },
    {
      "cell_type": "code",
      "source": [
        "# run_button.on_click(on_click_classify)\n",
        "upload_button.observe(on_click_classify, names=['data'])"
      ],
      "metadata": {
        "id": "r_Orf2nvWfNL"
      },
      "execution_count": 7,
      "outputs": []
    },
    {
      "cell_type": "code",
      "source": [
        "display(VBox([widgets.Label('Select a picture of a large rodent!'),\n",
        "      # upload_button, run_button, out_put, label_pred\n",
        "      upload_button, out_put, label_pred]))"
      ],
      "metadata": {
        "colab": {
          "base_uri": "https://localhost:8080/",
          "height": 198,
          "referenced_widgets": [
            "5d270ddd74c648d298ed8073e62ed349",
            "9c0d4baa90484d28aa3f2f005d97d900",
            "d85ad413fcb7487ca31ef00c24cee2d0",
            "0b95261bc1024da08c712a8e95d88cde",
            "1411eb9594f24dc2bee58b9ab06187e0",
            "4d216b2b700a425e9f7a96c5c9b8b859",
            "cfac73a2c7f54f56828cffe247649103",
            "aef16c8a9ef141eeb4d4c81f381e84c0",
            "73e8560a5e74469c949fcc69353c7ba9",
            "bd8f15e676f44731806a9b3dd9963a07",
            "539464a3cca64c1f84acc926034f8090",
            "8e20c13d978c40989fe2f413e7d33d16",
            "f4edd2385fdf4893a50415ed9a687341"
          ]
        },
        "id": "9I2fr8xPWhVd",
        "outputId": "99692b78-eba4-4040-e1bf-21858aea21ee"
      },
      "execution_count": 8,
      "outputs": [
        {
          "output_type": "display_data",
          "data": {
            "text/plain": [
              "VBox(children=(Label(value='Select a picture of a large rodent!'), FileUpload(value={}, description='Upload'),…"
            ],
            "application/vnd.jupyter.widget-view+json": {
              "version_major": 2,
              "version_minor": 0,
              "model_id": "5d270ddd74c648d298ed8073e62ed349"
            }
          },
          "metadata": {}
        },
        {
          "output_type": "display_data",
          "data": {
            "text/plain": [
              "<IPython.core.display.HTML object>"
            ],
            "text/html": [
              "\n",
              "<style>\n",
              "    /* Turns off some styling */\n",
              "    progress {\n",
              "        /* gets rid of default border in Firefox and Opera. */\n",
              "        border: none;\n",
              "        /* Needs to be in here for Safari polyfill so background images work as expected. */\n",
              "        background-size: auto;\n",
              "    }\n",
              "    progress:not([value]), progress:not([value])::-webkit-progress-bar {\n",
              "        background: repeating-linear-gradient(45deg, #7e7e7e, #7e7e7e 10px, #5c5c5c 10px, #5c5c5c 20px);\n",
              "    }\n",
              "    .progress-bar-interrupted, .progress-bar-interrupted::-webkit-progress-bar {\n",
              "        background: #F44336;\n",
              "    }\n",
              "</style>\n"
            ]
          },
          "metadata": {}
        },
        {
          "output_type": "display_data",
          "data": {
            "text/plain": [
              "<IPython.core.display.HTML object>"
            ],
            "text/html": []
          },
          "metadata": {}
        }
      ]
    }
  ],
  "metadata": {
    "accelerator": "GPU",
    "colab": {
      "gpuType": "T4",
      "provenance": [],
      "authorship_tag": "ABX9TyOAAQTiBeY3k8ZUAevcQ87V"
    },
    "kernelspec": {
      "display_name": "Python 3",
      "name": "python3"
    },
    "language_info": {
      "name": "python"
    },
    "widgets": {
      "application/vnd.jupyter.widget-state+json": {
        "5d270ddd74c648d298ed8073e62ed349": {
          "model_module": "@jupyter-widgets/controls",
          "model_name": "VBoxModel",
          "model_module_version": "1.5.0",
          "state": {
            "_dom_classes": [],
            "_model_module": "@jupyter-widgets/controls",
            "_model_module_version": "1.5.0",
            "_model_name": "VBoxModel",
            "_view_count": null,
            "_view_module": "@jupyter-widgets/controls",
            "_view_module_version": "1.5.0",
            "_view_name": "VBoxView",
            "box_style": "",
            "children": [
              "IPY_MODEL_9c0d4baa90484d28aa3f2f005d97d900",
              "IPY_MODEL_d85ad413fcb7487ca31ef00c24cee2d0",
              "IPY_MODEL_0b95261bc1024da08c712a8e95d88cde",
              "IPY_MODEL_1411eb9594f24dc2bee58b9ab06187e0"
            ],
            "layout": "IPY_MODEL_4d216b2b700a425e9f7a96c5c9b8b859"
          }
        },
        "9c0d4baa90484d28aa3f2f005d97d900": {
          "model_module": "@jupyter-widgets/controls",
          "model_name": "LabelModel",
          "model_module_version": "1.5.0",
          "state": {
            "_dom_classes": [],
            "_model_module": "@jupyter-widgets/controls",
            "_model_module_version": "1.5.0",
            "_model_name": "LabelModel",
            "_view_count": null,
            "_view_module": "@jupyter-widgets/controls",
            "_view_module_version": "1.5.0",
            "_view_name": "LabelView",
            "description": "",
            "description_tooltip": null,
            "layout": "IPY_MODEL_cfac73a2c7f54f56828cffe247649103",
            "placeholder": "​",
            "style": "IPY_MODEL_aef16c8a9ef141eeb4d4c81f381e84c0",
            "value": "Select a picture of a large rodent!"
          }
        },
        "d85ad413fcb7487ca31ef00c24cee2d0": {
          "model_module": "@jupyter-widgets/controls",
          "model_name": "FileUploadModel",
          "model_module_version": "1.5.0",
          "state": {
            "_counter": 1,
            "_dom_classes": [],
            "_model_module": "@jupyter-widgets/controls",
            "_model_module_version": "1.5.0",
            "_model_name": "FileUploadModel",
            "_view_count": null,
            "_view_module": "@jupyter-widgets/controls",
            "_view_module_version": "1.5.0",
            "_view_name": "FileUploadView",
            "accept": "",
            "button_style": "",
            "data": [
              null
            ],
            "description": "Upload",
            "description_tooltip": null,
            "disabled": false,
            "error": "",
            "icon": "upload",
            "layout": "IPY_MODEL_73e8560a5e74469c949fcc69353c7ba9",
            "metadata": [
              {
                "name": "paca2.jpg",
                "type": "image/jpeg",
                "size": 29819,
                "lastModified": 1710030903892
              }
            ],
            "multiple": false,
            "style": "IPY_MODEL_bd8f15e676f44731806a9b3dd9963a07"
          }
        },
        "0b95261bc1024da08c712a8e95d88cde": {
          "model_module": "@jupyter-widgets/output",
          "model_name": "OutputModel",
          "model_module_version": "1.0.0",
          "state": {
            "_dom_classes": [],
            "_model_module": "@jupyter-widgets/output",
            "_model_module_version": "1.0.0",
            "_model_name": "OutputModel",
            "_view_count": null,
            "_view_module": "@jupyter-widgets/output",
            "_view_module_version": "1.0.0",
            "_view_name": "OutputView",
            "layout": "IPY_MODEL_f4edd2385fdf4893a50415ed9a687341",
            "msg_id": "",
            "outputs": [
              {
                "output_type": "display_data",
                "data": {
                  "text/plain": "<PIL.Image.Image image mode=RGB size=128x85>",
                  "image/png": "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\n"
                },
                "metadata": {}
              }
            ]
          }
        },
        "1411eb9594f24dc2bee58b9ab06187e0": {
          "model_module": "@jupyter-widgets/controls",
          "model_name": "LabelModel",
          "model_module_version": "1.5.0",
          "state": {
            "_dom_classes": [],
            "_model_module": "@jupyter-widgets/controls",
            "_model_module_version": "1.5.0",
            "_model_name": "LabelModel",
            "_view_count": null,
            "_view_module": "@jupyter-widgets/controls",
            "_view_module_version": "1.5.0",
            "_view_name": "LabelView",
            "description": "",
            "description_tooltip": null,
            "layout": "IPY_MODEL_539464a3cca64c1f84acc926034f8090",
            "placeholder": "​",
            "style": "IPY_MODEL_8e20c13d978c40989fe2f413e7d33d16",
            "value": "Prediction: paca, Probability: 0.9989"
          }
        },
        "4d216b2b700a425e9f7a96c5c9b8b859": {
          "model_module": "@jupyter-widgets/base",
          "model_name": "LayoutModel",
          "model_module_version": "1.2.0",
          "state": {
            "_model_module": "@jupyter-widgets/base",
            "_model_module_version": "1.2.0",
            "_model_name": "LayoutModel",
            "_view_count": null,
            "_view_module": "@jupyter-widgets/base",
            "_view_module_version": "1.2.0",
            "_view_name": "LayoutView",
            "align_content": null,
            "align_items": null,
            "align_self": null,
            "border": null,
            "bottom": null,
            "display": null,
            "flex": null,
            "flex_flow": null,
            "grid_area": null,
            "grid_auto_columns": null,
            "grid_auto_flow": null,
            "grid_auto_rows": null,
            "grid_column": null,
            "grid_gap": null,
            "grid_row": null,
            "grid_template_areas": null,
            "grid_template_columns": null,
            "grid_template_rows": null,
            "height": null,
            "justify_content": null,
            "justify_items": null,
            "left": null,
            "margin": null,
            "max_height": null,
            "max_width": null,
            "min_height": null,
            "min_width": null,
            "object_fit": null,
            "object_position": null,
            "order": null,
            "overflow": null,
            "overflow_x": null,
            "overflow_y": null,
            "padding": null,
            "right": null,
            "top": null,
            "visibility": null,
            "width": null
          }
        },
        "cfac73a2c7f54f56828cffe247649103": {
          "model_module": "@jupyter-widgets/base",
          "model_name": "LayoutModel",
          "model_module_version": "1.2.0",
          "state": {
            "_model_module": "@jupyter-widgets/base",
            "_model_module_version": "1.2.0",
            "_model_name": "LayoutModel",
            "_view_count": null,
            "_view_module": "@jupyter-widgets/base",
            "_view_module_version": "1.2.0",
            "_view_name": "LayoutView",
            "align_content": null,
            "align_items": null,
            "align_self": null,
            "border": null,
            "bottom": null,
            "display": null,
            "flex": null,
            "flex_flow": null,
            "grid_area": null,
            "grid_auto_columns": null,
            "grid_auto_flow": null,
            "grid_auto_rows": null,
            "grid_column": null,
            "grid_gap": null,
            "grid_row": null,
            "grid_template_areas": null,
            "grid_template_columns": null,
            "grid_template_rows": null,
            "height": null,
            "justify_content": null,
            "justify_items": null,
            "left": null,
            "margin": null,
            "max_height": null,
            "max_width": null,
            "min_height": null,
            "min_width": null,
            "object_fit": null,
            "object_position": null,
            "order": null,
            "overflow": null,
            "overflow_x": null,
            "overflow_y": null,
            "padding": null,
            "right": null,
            "top": null,
            "visibility": null,
            "width": null
          }
        },
        "aef16c8a9ef141eeb4d4c81f381e84c0": {
          "model_module": "@jupyter-widgets/controls",
          "model_name": "DescriptionStyleModel",
          "model_module_version": "1.5.0",
          "state": {
            "_model_module": "@jupyter-widgets/controls",
            "_model_module_version": "1.5.0",
            "_model_name": "DescriptionStyleModel",
            "_view_count": null,
            "_view_module": "@jupyter-widgets/base",
            "_view_module_version": "1.2.0",
            "_view_name": "StyleView",
            "description_width": ""
          }
        },
        "73e8560a5e74469c949fcc69353c7ba9": {
          "model_module": "@jupyter-widgets/base",
          "model_name": "LayoutModel",
          "model_module_version": "1.2.0",
          "state": {
            "_model_module": "@jupyter-widgets/base",
            "_model_module_version": "1.2.0",
            "_model_name": "LayoutModel",
            "_view_count": null,
            "_view_module": "@jupyter-widgets/base",
            "_view_module_version": "1.2.0",
            "_view_name": "LayoutView",
            "align_content": null,
            "align_items": null,
            "align_self": null,
            "border": null,
            "bottom": null,
            "display": null,
            "flex": null,
            "flex_flow": null,
            "grid_area": null,
            "grid_auto_columns": null,
            "grid_auto_flow": null,
            "grid_auto_rows": null,
            "grid_column": null,
            "grid_gap": null,
            "grid_row": null,
            "grid_template_areas": null,
            "grid_template_columns": null,
            "grid_template_rows": null,
            "height": null,
            "justify_content": null,
            "justify_items": null,
            "left": null,
            "margin": null,
            "max_height": null,
            "max_width": null,
            "min_height": null,
            "min_width": null,
            "object_fit": null,
            "object_position": null,
            "order": null,
            "overflow": null,
            "overflow_x": null,
            "overflow_y": null,
            "padding": null,
            "right": null,
            "top": null,
            "visibility": null,
            "width": null
          }
        },
        "bd8f15e676f44731806a9b3dd9963a07": {
          "model_module": "@jupyter-widgets/controls",
          "model_name": "ButtonStyleModel",
          "model_module_version": "1.5.0",
          "state": {
            "_model_module": "@jupyter-widgets/controls",
            "_model_module_version": "1.5.0",
            "_model_name": "ButtonStyleModel",
            "_view_count": null,
            "_view_module": "@jupyter-widgets/base",
            "_view_module_version": "1.2.0",
            "_view_name": "StyleView",
            "button_color": null,
            "font_weight": ""
          }
        },
        "539464a3cca64c1f84acc926034f8090": {
          "model_module": "@jupyter-widgets/base",
          "model_name": "LayoutModel",
          "model_module_version": "1.2.0",
          "state": {
            "_model_module": "@jupyter-widgets/base",
            "_model_module_version": "1.2.0",
            "_model_name": "LayoutModel",
            "_view_count": null,
            "_view_module": "@jupyter-widgets/base",
            "_view_module_version": "1.2.0",
            "_view_name": "LayoutView",
            "align_content": null,
            "align_items": null,
            "align_self": null,
            "border": null,
            "bottom": null,
            "display": null,
            "flex": null,
            "flex_flow": null,
            "grid_area": null,
            "grid_auto_columns": null,
            "grid_auto_flow": null,
            "grid_auto_rows": null,
            "grid_column": null,
            "grid_gap": null,
            "grid_row": null,
            "grid_template_areas": null,
            "grid_template_columns": null,
            "grid_template_rows": null,
            "height": null,
            "justify_content": null,
            "justify_items": null,
            "left": null,
            "margin": null,
            "max_height": null,
            "max_width": null,
            "min_height": null,
            "min_width": null,
            "object_fit": null,
            "object_position": null,
            "order": null,
            "overflow": null,
            "overflow_x": null,
            "overflow_y": null,
            "padding": null,
            "right": null,
            "top": null,
            "visibility": null,
            "width": null
          }
        },
        "8e20c13d978c40989fe2f413e7d33d16": {
          "model_module": "@jupyter-widgets/controls",
          "model_name": "DescriptionStyleModel",
          "model_module_version": "1.5.0",
          "state": {
            "_model_module": "@jupyter-widgets/controls",
            "_model_module_version": "1.5.0",
            "_model_name": "DescriptionStyleModel",
            "_view_count": null,
            "_view_module": "@jupyter-widgets/base",
            "_view_module_version": "1.2.0",
            "_view_name": "StyleView",
            "description_width": ""
          }
        },
        "f4edd2385fdf4893a50415ed9a687341": {
          "model_module": "@jupyter-widgets/base",
          "model_name": "LayoutModel",
          "model_module_version": "1.2.0",
          "state": {
            "_model_module": "@jupyter-widgets/base",
            "_model_module_version": "1.2.0",
            "_model_name": "LayoutModel",
            "_view_count": null,
            "_view_module": "@jupyter-widgets/base",
            "_view_module_version": "1.2.0",
            "_view_name": "LayoutView",
            "align_content": null,
            "align_items": null,
            "align_self": null,
            "border": null,
            "bottom": null,
            "display": null,
            "flex": null,
            "flex_flow": null,
            "grid_area": null,
            "grid_auto_columns": null,
            "grid_auto_flow": null,
            "grid_auto_rows": null,
            "grid_column": null,
            "grid_gap": null,
            "grid_row": null,
            "grid_template_areas": null,
            "grid_template_columns": null,
            "grid_template_rows": null,
            "height": null,
            "justify_content": null,
            "justify_items": null,
            "left": null,
            "margin": null,
            "max_height": null,
            "max_width": null,
            "min_height": null,
            "min_width": null,
            "object_fit": null,
            "object_position": null,
            "order": null,
            "overflow": null,
            "overflow_x": null,
            "overflow_y": null,
            "padding": null,
            "right": null,
            "top": null,
            "visibility": null,
            "width": null
          }
        }
      }
    }
  },
  "nbformat": 4,
  "nbformat_minor": 0
}